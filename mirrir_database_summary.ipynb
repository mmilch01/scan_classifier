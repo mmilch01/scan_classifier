{
 "cells": [
  {
   "cell_type": "code",
   "execution_count": 1,
   "metadata": {},
   "outputs": [
    {
     "name": "stdout",
     "output_type": "stream",
     "text": [
      "FileMetaInformationGroupLength\n",
      "FileMetaInformationVersion\n",
      "MediaStorageSOPClassUID\n",
      "MediaStorageSOPInstanceUID\n",
      "TransferSyntaxUID\n",
      "ImplementationClassUID\n",
      "ImplementationVersionName\n",
      "StudyDate\n",
      "StudyTime\n",
      "AccessionNumber\n",
      "QueryRetrieveLevel\n",
      "RetrieveAETitle\n",
      "InstanceAvailability\n",
      "Modality\n",
      "ModalitiesInStudy\n",
      "SOPClassesInStudy\n",
      "Manufacturer\n",
      "InstitutionName\n",
      "ReferringPhysicianName\n",
      "StationName\n",
      "StudyDescription\n",
      "ProcedureCodeSequence\n",
      "SeriesDescription\n",
      "InstitutionalDepartmentName\n",
      "NameOfPhysiciansReadingStudy\n",
      "AdmittingDiagnosesDescription\n",
      "ReferencedStudySequence\n",
      "ReferencedPerformedProcedureStepSequence\n",
      "ReferencedPatientSequence\n",
      "PatientName\n",
      "PatientID\n",
      "IssuerOfPatientID\n",
      "PatientBirthDate\n",
      "PatientBirthTime\n",
      "PatientSex\n",
      "OtherPatientIDs\n",
      "OtherPatientNames\n",
      "PatientAge\n",
      "PatientSize\n",
      "PatientWeight\n",
      "EthnicGroup\n",
      "Occupation\n",
      "AdditionalPatientHistory\n",
      "PatientComments\n",
      "BodyPartExamined\n",
      "StudyInstanceUID\n",
      "SeriesInstanceUID\n",
      "StudyID\n",
      "SeriesNumber\n",
      "OtherStudyNumbers\n",
      "NumberOfPatientRelatedStudies\n",
      "NumberOfPatientRelatedSeries\n",
      "NumberOfPatientRelatedInstances\n",
      "NumberOfStudyRelatedSeries\n",
      "NumberOfStudyRelatedInstances\n",
      "NumberOfSeriesRelatedInstances\n",
      "StudyStatusID\n",
      "RequestingPhysician\n",
      "RequestingService\n",
      "PerformedProcedureStepStartDate\n",
      "PerformedProcedureStepStartTime\n",
      "RequestAttributesSequence\n"
     ]
    }
   ],
   "source": [
    "import pydicom as pd\n",
    "with open('ListOfMIRRIRHeaders.txt') as f:\n",
    "    lines = [line for line in f]\n",
    "    \n",
    "for line in lines:\n",
    "    print(pd.datadict.keyword_for_tag(line))"
   ]
  },
  {
   "cell_type": "code",
   "execution_count": null,
   "metadata": {},
   "outputs": [],
   "source": []
  }
 ],
 "metadata": {
  "kernelspec": {
   "display_name": "Python 3",
   "language": "python",
   "name": "python3"
  },
  "language_info": {
   "codemirror_mode": {
    "name": "ipython",
    "version": 3
   },
   "file_extension": ".py",
   "mimetype": "text/x-python",
   "name": "python",
   "nbconvert_exporter": "python",
   "pygments_lexer": "ipython3",
   "version": "3.7.3"
  }
 },
 "nbformat": 4,
 "nbformat_minor": 2
}
