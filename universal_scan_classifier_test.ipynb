{
 "cells": [
  {
   "cell_type": "code",
   "execution_count": null,
   "metadata": {},
   "outputs": [],
   "source": [
    "import getpass, ipywidgets as ipw, os, json, shlex, io, re, tempfile, subprocess,unittest\n",
    "import datetime\n",
    "import pydicom,numpy as np,csv,warnings,pickle,sys,tensorflow as tf\n",
    "from sklearn.feature_extraction.text import CountVectorizer\n",
    "from sklearn.model_selection import train_test_split\n",
    "from sklearn.linear_model import LogisticRegression\n",
    "from tensorflow.keras.models import Sequential\n",
    "from tensorflow.keras import layers\n",
    "from tensorflow.keras import backend as K\n",
    "from IPython.display import FileLink\n",
    "from io import BytesIO\n",
    "\n",
    "warnings.filterwarnings('ignore')\n",
    "warnings.simplefilter('ignore')\n",
    "tf.logging.set_verbosity(tf.logging.ERROR)\n",
    "\n",
    "%load_ext autoreload\n",
    "%autoreload 2\n",
    "#%tb\n",
    "\n",
    "module_path = os.path.abspath(os.path.join('..'))\n",
    "if module_path not in sys.path:\n",
    "    sys.path.append(module_path)\n",
    "from juxnat_lib.xnat_utils import *\n",
    "from universal_scan_classifier import *\n",
    "#from matplotlib import pyplot as plt"
   ]
  },
  {
   "cell_type": "code",
   "execution_count": null,
   "metadata": {},
   "outputs": [],
   "source": [
    "t=UniversalScanClassifierTest()\n",
    "t.test_train_model1_svm(test_split=0.2,random_state=1000)"
   ]
  },
  {
   "cell_type": "code",
   "execution_count": null,
   "metadata": {},
   "outputs": [],
   "source": [
    "t.test_validate_model2_svm()\n",
    "#t.test_infer_model2_svm()"
   ]
  },
  {
   "cell_type": "code",
   "execution_count": null,
   "metadata": {},
   "outputs": [],
   "source": [
    "t=UniversalScanClassifierTest()\n",
    "#t.test_load_nomenclature()\n",
    "#t.test_load_training_set()\n",
    "t.test_train_model1_nn(test_split=0.2)"
   ]
  },
  {
   "cell_type": "code",
   "execution_count": null,
   "metadata": {},
   "outputs": [],
   "source": [
    "t.test_validate_model1_nn()"
   ]
  },
  {
   "cell_type": "code",
   "execution_count": null,
   "metadata": {},
   "outputs": [],
   "source": [
    "!ls ./test/neuro_onc.json\n",
    "t=UniversalScanClassifierTest()\n",
    "#t.test_load_nomenclature()\n",
    "#t.test_load_training_set()\n",
    "t.test_train_model2(test_split=0.5)"
   ]
  },
  {
   "cell_type": "code",
   "execution_count": null,
   "metadata": {},
   "outputs": [],
   "source": [
    "t.test_validate_model2()"
   ]
  },
  {
   "cell_type": "code",
   "execution_count": null,
   "metadata": {},
   "outputs": [],
   "source": [
    "scans=t.usc.read_scans_csv('all_scans_hofid.csv')\n",
    "t.usc.gen_vocabulary(scans)"
   ]
  },
  {
   "cell_type": "code",
   "execution_count": null,
   "metadata": {},
   "outputs": [],
   "source": [
    "list(t.usc.vectorizer.vocabulary_.keys())[:100]"
   ]
  },
  {
   "cell_type": "code",
   "execution_count": null,
   "metadata": {},
   "outputs": [],
   "source": [
    "vectorizer=pickle.load(open('./test/neuro-onc-test.vec','rb'))"
   ]
  },
  {
   "cell_type": "code",
   "execution_count": null,
   "metadata": {},
   "outputs": [],
   "source": [
    "from io import BytesIO\n",
    "u=ipw.FileUpload()\n",
    "u"
   ]
  },
  {
   "cell_type": "code",
   "execution_count": null,
   "metadata": {},
   "outputs": [],
   "source": [
    "fupl=u\n",
    "keys=list(fupl.value)\n",
    "model_file=keys[0]\n",
    "model_data=BytesIO(fupl.value[keys[0]]['content'])\n",
    "model_nn=False\n",
    "model_file=keys[0]\n",
    "if os.path.splitext(model_file)[1]=='.zip': \n",
    "    model_nn=True\n",
    "current_model='{}'.format(os.path.basename(model_file))    \n",
    "with open(model_file,\"wb\") as f:\n",
    "    f.write(model_data.getbuffer())         "
   ]
  },
  {
   "cell_type": "code",
   "execution_count": null,
   "metadata": {},
   "outputs": [],
   "source": [
    "datetime.datetime.now().strftime('%Y%m%d_%H%M%S')"
   ]
  }
 ],
 "metadata": {
  "kernelspec": {
   "display_name": "Python 3",
   "language": "python",
   "name": "python3"
  },
  "language_info": {
   "codemirror_mode": {
    "name": "ipython",
    "version": 3
   },
   "file_extension": ".py",
   "mimetype": "text/x-python",
   "name": "python",
   "nbconvert_exporter": "python",
   "pygments_lexer": "ipython3",
   "version": "3.6.5"
  }
 },
 "nbformat": 4,
 "nbformat_minor": 2
}
